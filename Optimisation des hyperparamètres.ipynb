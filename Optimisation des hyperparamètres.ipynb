{
  "cells": [
    {
      "cell_type": "markdown",
      "metadata": {
        "id": "eqGbSzvcbo4C"
      },
      "source": [
        "# L'Optimisation des Hyperparamètres (OHP) des modèles d'apprentissage automatique\n",
        "L'optimisation des hyperparamètres (OHP) en apprentissage automatique consiste à trouver les meilleures valeurs pour les paramètres externes d'un modèle, appelés hyperparamètres.\n",
        "\n",
        "\n",
        " L'OHP est une étape cruciale dans le développement de modèles d'apprentissage automatique performants."
      ]
    },
    {
      "cell_type": "markdown",
      "metadata": {
        "id": "w99GVRiZfq9l"
      },
      "source": [
        "**Ensemble de données utilisé :**\n",
        "Boston Housing dataset\n",
        "\n",
        "**Algorithmes d'apprentissage automatique utilisés :**\n",
        "\n",
        "Forêt aléatoire (RF), machine à vecteurs de support (SVM), k-plus proches voisins (KNN).\n",
        "\n",
        "Algorithmes d'optimisation des hyperparamètres (OHP) utilisés :\n",
        "Grid search, random search , Bayesian Optimization with Gaussian Processes (BO-GP),algorithme génétique (GA).\n",
        "\n",
        "**Mesure de performance :**\n",
        "Erreur quadratique moyenne (MSE)"
      ]
    },
    {
      "cell_type": "code",
      "execution_count": 1,
      "metadata": {
        "id": "moVX-aqrbbY2"
      },
      "outputs": [],
      "source": [
        "from sklearn.model_selection import train_test_split, GridSearchCV\n",
        "from sklearn.ensemble import RandomForestRegressor\n",
        "from sklearn.svm import SVR\n",
        "from sklearn.neighbors import KNeighborsRegressor\n",
        "from sklearn.metrics import mean_squared_error\n",
        "from sklearn.preprocessing import StandardScaler\n",
        "import numpy as np\n",
        "import pandas as pd\n",
        "import seaborn as sns\n",
        "import matplotlib.pyplot as plt\n",
        "from sklearn.model_selection import train_test_split,cross_val_score\n",
        "from sklearn.ensemble import RandomForestClassifier,RandomForestRegressor\n",
        "from sklearn.metrics import classification_report,confusion_matrix,accuracy_score\n",
        "from sklearn.neighbors import KNeighborsClassifier,KNeighborsRegressor\n",
        "from sklearn.svm import SVC,SVR\n",
        "from sklearn import datasets\n",
        "import scipy.stats as stats\n",
        "from sklearn.ensemble import RandomForestRegressor\n",
        "from sklearn.svm import SVR\n",
        "from sklearn.neighbors import KNeighborsRegressor\n",
        "from sklearn.model_selection import train_test_split"
      ]
    },
    {
      "cell_type": "markdown",
      "metadata": {
        "id": "Kij7CG3cjNiq"
      },
      "source": [
        " Charger le jeu de données Boston à partir du fichier CSV"
      ]
    },
    {
      "cell_type": "code",
      "execution_count": 2,
      "metadata": {
        "id": "QfPFR4PTbqh1"
      },
      "outputs": [],
      "source": [
        "df = pd.read_csv('boston.csv')"
      ]
    },
    {
      "cell_type": "markdown",
      "metadata": {
        "id": "BkbdX4DQjW3l"
      },
      "source": [
        "Séparer les caractéristiques (X) et la variable cible (y)"
      ]
    },
    {
      "cell_type": "code",
      "execution_count": 3,
      "metadata": {
        "id": "3zflFhz4bqkK"
      },
      "outputs": [],
      "source": [
        "X = df.drop('MEDV', axis=1)  # X contient toutes les colonnes sauf 'MEDV'\n",
        "y = df['MEDV']  # y contient la colonne 'MEDV'"
      ]
    },
    {
      "cell_type": "code",
      "execution_count": 4,
      "metadata": {
        "colab": {
          "base_uri": "https://localhost:8080/"
        },
        "id": "lDEG6WX6bqm0",
        "outputId": "24f9622c-9857-49ab-c520-1f187dfac564"
      },
      "outputs": [
        {
          "output_type": "stream",
          "name": "stdout",
          "text": [
            "      CRIM   ZN   INDUS   CHAS    NOX     RM   AGE     DIS  RAD  TAX  PTRATIO  \\\n",
            "0  0.00632  18.0    2.31     0  0.538  6.575  65.2  4.0900    1  296     15.3   \n",
            "1  0.02731   0.0    7.07     0  0.469  6.421  78.9  4.9671    2  242     17.8   \n",
            "2  0.02729   0.0    7.07     0  0.469  7.185  61.1  4.9671    2  242     17.8   \n",
            "3  0.03237   0.0    2.18     0  0.458  6.998  45.8  6.0622    3  222     18.7   \n",
            "4  0.06905   0.0    2.18     0  0.458  7.147  54.2  6.0622    3  222     18.7   \n",
            "\n",
            "   LSTAT  MEDV  \n",
            "0   4.98  24.0  \n",
            "1   9.14  21.6  \n",
            "2   4.03  34.7  \n",
            "3   2.94  33.4  \n",
            "4   5.33  36.2  \n"
          ]
        }
      ],
      "source": [
        "# Afficher les premières lignes du DataFrame\n",
        "print(df.head())"
      ]
    },
    {
      "cell_type": "code",
      "execution_count": 5,
      "metadata": {
        "id": "yl61u8ugbqpZ"
      },
      "outputs": [],
      "source": [
        "# Diviser les données en ensembles d'entraînement et de test\n",
        "X_train, X_test, y_train, y_test = train_test_split(X, y, test_size=0.2, random_state=42)"
      ]
    },
    {
      "cell_type": "markdown",
      "metadata": {
        "id": "nRxsLSH-lwAI"
      },
      "source": [
        "# HPO Algorithm 1: Grid Search\n",
        "**Stratégie de Recherche :** Explore de manière exhaustive toutes les combinaisons d'hyperparamètres dans une grille prédéfinie.\n",
        "\n",
        "**Quelques points essentiels à noter concernant l'implémentation de GridSearchCV dans scikit-learn :**\n",
        "\n",
        "**Format des paramètres**\n",
        "\n",
        "Les hyperparamètres doivent être spécifiés sous la forme d'une distribution ou d'une grille avec des paires clé-valeur, similaire à un dictionnaire.\n",
        "\n",
        "**Validation croisée:**\n",
        "\n",
        " GridSearchCV réalise une validation croisée pour prévenir le surajustement du modèle. Par défaut, il utilise StratifiedKFold pour les problèmes de classification et KFold pour les problèmes de régression.\n",
        "\n",
        "**Méthode utile**\n",
        "\n",
        "  GridSearchCV propose des méthodes pratiques telles que predict_proba pour prédire des probabilités, best_score_ pour obtenir le meilleur score, best_params_ pour récupérer les meilleurs paramètres appris par le modèle.\n",
        "\n",
        "**Choix du critère de scoring**\n",
        " Vous avez également la possibilité de définir le paramètre de scoring selon vos préférences, ce qui permet une personnalisation selon les objectifs spécifiques du problème."
      ]
    },
    {
      "cell_type": "markdown",
      "metadata": {
        "id": "PlfwYKMgrv4Q"
      },
      "source": [
        "**Random Forest**"
      ]
    },
    {
      "cell_type": "code",
      "execution_count": 6,
      "metadata": {
        "colab": {
          "base_uri": "https://localhost:8080/"
        },
        "id": "9QKc9smJbqrp",
        "outputId": "2e5cb1b9-bc86-48f7-d5a8-e74c6d8a7073"
      },
      "outputs": [
        {
          "output_type": "stream",
          "name": "stdout",
          "text": [
            "CPU times: user 2.13 s, sys: 1.19 ms, total: 2.14 s\n",
            "Wall time: 2.14 s\n",
            "Random Forest - Best Parameters: {'max_depth': 20, 'n_estimators': 20}\n",
            "Random Forest - MSE: 16.568739887547853\n"
          ]
        }
      ],
      "source": [
        "# Hyperparamètres pour le modèle Random Forest\n",
        "rf_params = {\n",
        "    'n_estimators': [10, 20, 30],\n",
        "    'max_depth': [15, 20, 30, 50],\n",
        "}\n",
        "\n",
        "# Initialisation du modèle Random Forest\n",
        "rf_regressor = RandomForestRegressor(random_state=0)\n",
        "\n",
        "# Recherche des meilleurs hyperparamètres avec GridSearchCV\n",
        "rf_grid = GridSearchCV(rf_regressor, rf_params, cv=3, scoring='neg_mean_squared_error')\n",
        "%time rf_grid.fit(X_train, y_train)\n",
        "# Print best parameters and MSE for each algorithm\n",
        "print(\"Random Forest - Best Parameters:\", rf_grid.best_params_)\n",
        "print(\"Random Forest - MSE:\", -rf_grid.best_score_)"
      ]
    },
    {
      "cell_type": "markdown",
      "metadata": {
        "id": "w28ze-ipwGEH"
      },
      "source": [
        "**Interprétation :** Les résultats indiquent que le modèle Random Forest atteint sa meilleure performance avec une profondeur maximale (max_depth) de 20 et 20 estimateurs (n_estimators). Le MSE associé est relativement bas, ce qui suggère une bonne adéquation aux données."
      ]
    },
    {
      "cell_type": "markdown",
      "metadata": {
        "id": "5EkJT1xOsSTw"
      },
      "source": [
        " **SVM**"
      ]
    },
    {
      "cell_type": "code",
      "execution_count": 7,
      "metadata": {
        "colab": {
          "base_uri": "https://localhost:8080/"
        },
        "id": "GkA_uMGEbquF",
        "outputId": "579357c4-530d-433e-dfa0-1282064ec29b"
      },
      "outputs": [
        {
          "output_type": "stream",
          "name": "stdout",
          "text": [
            "CPU times: user 1.04 s, sys: 344 µs, total: 1.04 s\n",
            "Wall time: 1.05 s\n",
            "\n",
            "SVM - Best Parameters: {'C': 100, 'epsilon': 0.01, 'kernel': 'rbf'}\n",
            "SVM - MSE: 49.3802779669561\n"
          ]
        }
      ],
      "source": [
        "# Hyperparamètres pour le modèle SVM\n",
        "svm_params = {\n",
        "    'C': [1, 10, 100],\n",
        "    'kernel': ['poly', 'rbf', 'sigmoid'],\n",
        "    'epsilon': [0.01, 0.1, 1],\n",
        "}\n",
        "\n",
        "# Initialisation du modèle SVM\n",
        "svm_regressor = SVR(gamma='scale')\n",
        "\n",
        "# Recherche des meilleurs hyperparamètres avec GridSearchCV\n",
        "svm_grid = GridSearchCV(svm_regressor, svm_params, cv=3, scoring='neg_mean_squared_error')\n",
        "%time svm_grid.fit(X_train, y_train)\n",
        "\n",
        "print(\"\\nSVM - Best Parameters:\", svm_grid.best_params_)\n",
        "print(\"SVM - MSE:\", -svm_grid.best_score_)"
      ]
    },
    {
      "cell_type": "markdown",
      "metadata": {
        "id": "xSNKjxH8whnN"
      },
      "source": [
        "**Interprétation :** Les résultats pour le modèle SVM indiquent que les meilleurs hyperparamètres incluent un paramètre de régularisation (C) élevé de 100, une petite marge epsilon (0.01) et un noyau rbf (Radial Basis Function)."
      ]
    },
    {
      "cell_type": "markdown",
      "metadata": {
        "id": "xBsA5MKgsqwK"
      },
      "source": [
        "**KNN**"
      ]
    },
    {
      "cell_type": "code",
      "execution_count": 11,
      "metadata": {
        "colab": {
          "base_uri": "https://localhost:8080/"
        },
        "id": "ggCZ3u2Nbqxt",
        "outputId": "19c63bcf-78fa-487b-f03b-9f407809caf0"
      },
      "outputs": [
        {
          "output_type": "stream",
          "name": "stdout",
          "text": [
            "\n",
            "k-NN - Best Parameters: {'n_neighbors': 5, 'p': 1, 'weights': 'distance'}\n",
            "k-NN - MSE: 29.818211396400187\n"
          ]
        }
      ],
      "source": [
        "# Hyperparamètres pour le modèle k-NN\n",
        "knn_params = {\n",
        "    'n_neighbors': [3, 5, 7, 9],\n",
        "    'weights': ['uniform', 'distance'],\n",
        "    'p': [1, 2],\n",
        "}\n",
        "\n",
        "# Initialisation du modèle k-NN\n",
        "knn_regressor = KNeighborsRegressor()\n",
        "\n",
        "# Recherche des meilleurs hyperparamètres avec GridSearchCV\n",
        "knn_grid = GridSearchCV(knn_regressor, knn_params, cv=3, scoring='neg_mean_squared_error')\n",
        "knn_grid.fit(X_train, y_train)\n",
        "\n",
        "# Afficher les meilleurs paramètres et le MSE associé\n",
        "print(\"\\nk-NN - Best Parameters:\", knn_grid.best_params_)\n",
        "print(\"k-NN - MSE:\", -knn_grid.best_score_)"
      ]
    },
    {
      "cell_type": "markdown",
      "metadata": {
        "id": "xYr8NiXZvNkd"
      },
      "source": [
        "**Interprétation :** Pour le modèle KNN, le nombre optimal de voisins (n_neighbors) est trouvé à 5, avec un MSE associé. Le KNN semble performant, bien que son MSE soit intermédiaire par rapport aux autres modèles."
      ]
    },
    {
      "cell_type": "markdown",
      "metadata": {
        "id": "PS14QOOu0_HG"
      },
      "source": [
        "**Grid Search**\n",
        "Grid Search peut être coûteux en temps de calcul,\n",
        "évalue les performances du modèle pour chaque combinaison d'hyperparamètres à l'aide de la validation croisée et sélectionne la combinaison qui offre les meilleures performances."
      ]
    },
    {
      "cell_type": "markdown",
      "metadata": {
        "id": "7ME1l5JdxEm1"
      },
      "source": [
        "### HPO Algorithm 2: Random Search\n",
        "\n",
        "\n",
        "\n",
        "**Stratégie de Recherche :** Échantillonne de manière aléatoire des combinaisons d'hyperparamètres à partir d'une distribution prédéfinie.\n",
        "**Points clés à noter sur l'implémentation de RandomizedSearchCV dans scikit-learn :**\n",
        "\n",
        "1-Spécifiez les hyperparamètres sous forme de distribution ou de grille avec des paires clé-valeur, comme dans un dictionnaire.\n",
        "\n",
        "2-Effectue une validation croisée pour éviter le surajustement du modèle.\n",
        "\n",
        "3-Par défaut, utilise une validation croisée StratifiedKFold pour les problèmes de classification et KFold pour les problèmes de régression.\n",
        "\n",
        "4-Fournit des méthodes telles que predict_proba si vous souhaitez prédire des probabilités, best_score_ pour obtenir le meilleur score, best_params_ pour récupérer les meilleurs paramètres appris par le modèle.\n",
        "\n",
        "5-Permet de définir le nombre de combinaisons de paramètres à évaluer, défini par n_iter.\n",
        "\n",
        "6-Vous pouvez également définir le paramètre de scoring selon vos préférences.\n"
      ]
    },
    {
      "cell_type": "markdown",
      "metadata": {
        "id": "GE8IuSa63Jst"
      },
      "source": [
        "#Random Forest"
      ]
    },
    {
      "cell_type": "code",
      "execution_count": 8,
      "metadata": {
        "colab": {
          "base_uri": "https://localhost:8080/"
        },
        "id": "A5hF3Pd0vH3V",
        "outputId": "2aa6d933-fb6f-4363-bb4b-433bed14260e"
      },
      "outputs": [
        {
          "output_type": "stream",
          "name": "stdout",
          "text": [
            "Random Forest - Best Parameters: {'max_depth': 20, 'n_estimators': 20}\n",
            "Random Forest - MSE: 16.568739887547853\n"
          ]
        }
      ],
      "source": [
        "from sklearn.model_selection import GridSearchCV\n",
        "from sklearn.ensemble import RandomForestRegressor\n",
        "from sklearn.svm import SVR\n",
        "from sklearn.neighbors import KNeighborsRegressor\n",
        "\n",
        "# Random Forest\n",
        "rf_params = {\n",
        "    'n_estimators': [10, 20, 30],\n",
        "    'max_depth': [15, 20, 30, 50],\n",
        "}\n",
        "\n",
        "rf_regressor = RandomForestRegressor(random_state=0)\n",
        "rf_grid = GridSearchCV(rf_regressor, rf_params, cv=3, scoring='neg_mean_squared_error')\n",
        "rf_grid.fit(X_train, y_train)\n",
        "print(\"Random Forest - Best Parameters:\", rf_grid.best_params_)\n",
        "print(\"Random Forest - MSE:\", -rf_grid.best_score_)"
      ]
    },
    {
      "cell_type": "code",
      "execution_count": 9,
      "metadata": {
        "colab": {
          "base_uri": "https://localhost:8080/"
        },
        "id": "FutoFMY2vIB9",
        "outputId": "3126cb75-c964-49b4-8215-acc6ddd1156e"
      },
      "outputs": [
        {
          "output_type": "stream",
          "name": "stdout",
          "text": [
            "\n",
            "SVM - Best Parameters: {'C': 10, 'epsilon': 1, 'kernel': 'linear'}\n",
            "SVM - MSE: 26.435891420079557\n"
          ]
        }
      ],
      "source": [
        "\n",
        "# Hyperparamètres pour le modèle SVM\n",
        "svm_params = {\n",
        "    'C': [0.1, 1, 10, 100],\n",
        "    'kernel': ['linear', 'rbf', 'poly'],\n",
        "    'epsilon': [0.01, 0.1, 1],\n",
        "}\n",
        "\n",
        "# Initialisation du modèle SVM\n",
        "svm_regressor = SVR(gamma='scale')\n",
        "\n",
        "# Recherche des meilleurs hyperparamètres avec GridSearchCV\n",
        "svm_grid = GridSearchCV(svm_regressor, svm_params, cv=3, scoring='neg_mean_squared_error')\n",
        "svm_grid.fit(X_train, y_train)\n",
        "\n",
        "# Afficher les meilleurs paramètres et le MSE associé\n",
        "print(\"\\nSVM - Best Parameters:\", svm_grid.best_params_)\n",
        "print(\"SVM - MSE:\", -svm_grid.best_score_)"
      ]
    },
    {
      "cell_type": "code",
      "execution_count": 10,
      "metadata": {
        "colab": {
          "base_uri": "https://localhost:8080/"
        },
        "id": "qi7IEebYLSd0",
        "outputId": "1a8e617a-63fb-4444-c22d-7f12e98e3f92"
      },
      "outputs": [
        {
          "output_type": "stream",
          "name": "stdout",
          "text": [
            "\n",
            "k-NN - Best Parameters: {'n_neighbors': 5, 'p': 1, 'weights': 'distance'}\n",
            "k-NN - MSE: 29.818211396400187\n"
          ]
        }
      ],
      "source": [
        "# Hyperparamètres pour le modèle k-NN\n",
        "knn_params = {\n",
        "    'n_neighbors': [3, 5, 7, 9],\n",
        "    'weights': ['uniform', 'distance'],\n",
        "    'p': [1, 2],\n",
        "}\n",
        "\n",
        "# Initialisation du modèle k-NN\n",
        "knn_regressor = KNeighborsRegressor()\n",
        "\n",
        "# Recherche des meilleurs hyperparamètres avec GridSearchCV\n",
        "knn_grid = GridSearchCV(knn_regressor, knn_params, cv=3, scoring='neg_mean_squared_error')\n",
        "knn_grid.fit(X_train, y_train)\n",
        "\n",
        "# Afficher les meilleurs paramètres et le MSE associé\n",
        "print(\"\\nk-NN - Best Parameters:\", knn_grid.best_params_)\n",
        "print(\"k-NN - MSE:\", -knn_grid.best_score_)"
      ]
    },
    {
      "cell_type": "markdown",
      "metadata": {
        "id": "GVE4TiALLi9Y"
      },
      "source": [
        "Cette configuration indique que le modèle k-NN considère les cinq voisins les plus proches, utilise la distance de Manhattan pour mesurer la proximité, et attribue des poids décroissants en fonction inverse de la distance.\n",
        "\n",
        "Le MSE de 29.82 mesure l'erreur moyenne dans les prédictions,"
      ]
    },
    {
      "cell_type": "markdown",
      "metadata": {
        "id": "A8GQbIV94b3Y"
      },
      "source": [
        "**Quelques différences entre les implémentations de RandomizedSearchCV et GridSearchCV sont les suivantes :**\n",
        "\n",
        "**Dans RandomizedSearchCV**, toutes les combinaisons d'hyperparamètres ne sont pas explorées (cela est défini par n_iter), tandis que dans GridSearchCV, toutes les combinaisons possibles sont recherchées.\n",
        "\n",
        "\n",
        "**GridSearchCV** prend significativement plus de temps que RandomizedSearchCV en raison du grand nombre de combinaisons."
      ]
    },
    {
      "cell_type": "markdown",
      "metadata": {
        "id": "9n0qkP6m5C7h"
      },
      "source": [
        "# L'Optimisation Bayésienne avec Processus Gaussiens (BO-GP)\n",
        "\n",
        "L'Optimisation Bayésienne avec Processus Gaussiens (BO-GP) est une méthode efficace pour trouver les meilleurs paramètres d'une fonction coûteuse, telle que les hyperparamètres d'un modèle d'apprentissage automatique. Elle utilise un modèle probabiliste, le Processus Gaussien, pour guider la recherche en équilibrant l'exploration et l'exploitation, et ainsi trouver rapidement les paramètres optimaux. C'est particulièrement utile lorsque les évaluations sont coûteuses en temps ou en ressources."
      ]
    },
    {
      "cell_type": "code",
      "source": [
        "!pip install scikit-optimize\n"
      ],
      "metadata": {
        "colab": {
          "base_uri": "https://localhost:8080/"
        },
        "id": "KzaA1RktSKU_",
        "outputId": "e98da1c9-037c-45ca-d618-af80aebc7ff0"
      },
      "execution_count": null,
      "outputs": [
        {
          "output_type": "stream",
          "name": "stdout",
          "text": [
            "Collecting scikit-optimize\n",
            "  Downloading scikit_optimize-0.9.0-py2.py3-none-any.whl (100 kB)\n",
            "\u001b[?25l     \u001b[90m━━━━━━━━━━━━━━━━━━━━━━━━━━━━━━━━━━━━━━━━\u001b[0m \u001b[32m0.0/100.3 kB\u001b[0m \u001b[31m?\u001b[0m eta \u001b[36m-:--:--\u001b[0m\r\u001b[2K     \u001b[91m━━━━━━━━━━━━━━━━━━━━━━━━━━━━━━━━━━━━\u001b[0m\u001b[91m╸\u001b[0m\u001b[90m━━━\u001b[0m \u001b[32m92.2/100.3 kB\u001b[0m \u001b[31m3.0 MB/s\u001b[0m eta \u001b[36m0:00:01\u001b[0m\r\u001b[2K     \u001b[90m━━━━━━━━━━━━━━━━━━━━━━━━━━━━━━━━━━━━━━━━\u001b[0m \u001b[32m100.3/100.3 kB\u001b[0m \u001b[31m2.6 MB/s\u001b[0m eta \u001b[36m0:00:00\u001b[0m\n",
            "\u001b[?25hRequirement already satisfied: joblib>=0.11 in /usr/local/lib/python3.10/dist-packages (from scikit-optimize) (1.3.2)\n",
            "Collecting pyaml>=16.9 (from scikit-optimize)\n",
            "  Downloading pyaml-23.9.7-py3-none-any.whl (23 kB)\n",
            "Requirement already satisfied: numpy>=1.13.3 in /usr/local/lib/python3.10/dist-packages (from scikit-optimize) (1.23.5)\n",
            "Requirement already satisfied: scipy>=0.19.1 in /usr/local/lib/python3.10/dist-packages (from scikit-optimize) (1.11.3)\n",
            "Requirement already satisfied: scikit-learn>=0.20.0 in /usr/local/lib/python3.10/dist-packages (from scikit-optimize) (1.2.2)\n",
            "Requirement already satisfied: PyYAML in /usr/local/lib/python3.10/dist-packages (from pyaml>=16.9->scikit-optimize) (6.0.1)\n",
            "Requirement already satisfied: threadpoolctl>=2.0.0 in /usr/local/lib/python3.10/dist-packages (from scikit-learn>=0.20.0->scikit-optimize) (3.2.0)\n",
            "Installing collected packages: pyaml, scikit-optimize\n",
            "Successfully installed pyaml-23.9.7 scikit-optimize-0.9.0\n"
          ]
        }
      ]
    },
    {
      "cell_type": "code",
      "execution_count": null,
      "metadata": {
        "colab": {
          "base_uri": "https://localhost:8080/",
          "height": 541
        },
        "id": "9RtyDko_vIEn",
        "outputId": "6f312520-4c8b-40d9-b969-ec867152615f"
      },
      "outputs": [
        {
          "output_type": "stream",
          "name": "stdout",
          "text": [
            "\n",
            "Random Forest - Best Parameters: OrderedDict([('max_depth', 29), ('min_samples_leaf', 1), ('min_samples_split', 2), ('n_estimators', 128)])\n",
            "Random Forest - Best MSE: 16.20067073050366\n",
            "Random Forest - Test MSE: 8.70474323347504\n"
          ]
        },
        {
          "output_type": "display_data",
          "data": {
            "text/plain": [
              "<Figure size 640x480 with 1 Axes>"
            ],
            "image/png": "[encoded data removed]"
          },
          "metadata": {}
        }
      ],
      "source": [
        "import matplotlib.pyplot as plt\n",
        "from skopt import BayesSearchCV\n",
        "from sklearn.ensemble import RandomForestRegressor\n",
        "from sklearn.model_selection import train_test_split\n",
        "from sklearn.metrics import mean_squared_error\n",
        "import pandas as pd\n",
        "# Définir l'espace des hyperparamètres à explorer\n",
        "param_space = {\n",
        "    'n_estimators': (10, 200),\n",
        "    'max_depth': (5, 50),\n",
        "    'min_samples_split': (2, 20),\n",
        "    'min_samples_leaf': (1, 10)\n",
        "}\n",
        "\n",
        "# Initialisation du modèle Random Forest\n",
        "rf_regressor = RandomForestRegressor(random_state=0)\n",
        "\n",
        "# Initialisation de l'optimisation bayésienne avec processus gaussiens (BO-GP)\n",
        "opt = BayesSearchCV(rf_regressor, param_space, n_iter=30, cv=3, n_jobs=-1, scoring='neg_mean_squared_error', random_state=42)\n",
        "\n",
        "# Recherche des meilleurs hyperparamètres\n",
        "opt.fit(X_train, y_train)\n",
        "\n",
        "# Afficher les meilleurs hyperparamètres\n",
        "print(\"\\nRandom Forest - Best Parameters:\", opt.best_params_)\n",
        "print(\"Random Forest - Best MSE:\", -opt.best_score_)\n",
        "\n",
        "# Prédiction sur l'ensemble de test avec les meilleurs paramètres\n",
        "y_pred = opt.predict(X_test)\n",
        "\n",
        "# Calculer et afficher le MSE sur l'ensemble de test\n",
        "test_mse = mean_squared_error(y_test, y_pred)\n",
        "print(\"Random Forest - Test MSE:\", test_mse)\n",
        "\n",
        "# Visualisation des résultats\n",
        "results = pd.DataFrame(opt.cv_results_)\n",
        "results.plot(x='param_n_estimators', y='mean_test_score', kind='scatter', alpha=0.5, s=50, c='C0', label='BO-GP')\n",
        "plt.xlabel('Number of Estimators')\n",
        "plt.ylabel('Negative Mean Squared Error')\n",
        "plt.title('BO-GP Random Forest Hyperparameter Tuning')\n",
        "plt.show()"
      ]
    },
    {
      "cell_type": "code",
      "source": [
        "\n",
        "# Définir l'espace des hyperparamètres à explorer pour le modèle k-NN\n",
        "param_space = {\n",
        "    'n_neighbors': (1, 10),\n",
        "    'weights': ['uniform', 'distance'],\n",
        "    'p': [1, 2]\n",
        "}\n",
        "\n",
        "# Initialisation du modèle k-NN\n",
        "knn_regressor = KNeighborsRegressor()\n",
        "\n",
        "# Initialisation de l'optimisation bayésienne avec processus gaussiens (BO-GP)\n",
        "opt = BayesSearchCV(knn_regressor, param_space, n_iter=10, cv=3, n_jobs=-1, scoring='neg_mean_squared_error', random_state=42)\n",
        "\n",
        "# Recherche des meilleurs hyperparamètres\n",
        "opt.fit(X_train, y_train)\n",
        "\n",
        "# Afficher les meilleurs hyperparamètres\n",
        "print(\"\\nk-NN - Best Parameters:\", opt.best_params_)\n",
        "print(\"k-NN - Best MSE:\", -opt.best_score_)\n",
        "\n",
        "# Prédiction sur l'ensemble de test avec les meilleurs paramètres\n",
        "y_pred = opt.predict(X_test)\n",
        "\n",
        "# Calculer et afficher le MSE sur l'ensemble de test\n",
        "test_mse = mean_squared_error(y_test, y_pred)\n",
        "print(\"k-NN - Test MSE:\", test_mse)\n",
        "\n",
        "# Visualisation des résultats\n",
        "results = pd.DataFrame(opt.cv_results_)\n",
        "results['param_weights'] = results['param_weights'].map({'uniform': 0, 'distance': 1})\n",
        "\n",
        "plt.scatter(x=results['param_n_neighbors'], y=results['mean_test_score'], c=results['param_weights'], cmap='viridis', alpha=0.5, s=50)\n",
        "plt.colorbar(label='Weights')\n",
        "plt.xlabel('Number of Neighbors')\n",
        "plt.ylabel('Negative Mean Squared Error')\n",
        "plt.title('BO-GP k-NN Hyperparameter Tuning')\n",
        "plt.show()"
      ],
      "metadata": {
        "colab": {
          "base_uri": "https://localhost:8080/",
          "height": 541
        },
        "id": "j4GrqK70bo-r",
        "outputId": "2355db9f-1e24-4076-d7e0-d9a78f38e33c"
      },
      "execution_count": null,
      "outputs": [
        {
          "output_type": "stream",
          "name": "stdout",
          "text": [
            "\n",
            "k-NN - Best Parameters: OrderedDict([('n_neighbors', 7), ('p', 2), ('weights', 'distance')])\n",
            "k-NN - Best MSE: 36.26637045890014\n",
            "k-NN - Test MSE: 22.416435268953336\n"
          ]
        },
        {
          "output_type": "display_data",
          "data": {
            "text/plain": [
              "<Figure size 640x480 with 2 Axes>"
            ],
            "image/png": "[encoded data removed]"
          },
          "metadata": {}
        }
      ]
    },
    {
      "cell_type": "code",
      "source": [
        "import matplotlib.pyplot as plt\n",
        "from skopt import BayesSearchCV\n",
        "from sklearn.svm import SVR\n",
        "from sklearn.model_selection import train_test_split\n",
        "\n",
        "\n",
        "# Définir l'espace des hyperparamètres à explorer pour le modèle SVM\n",
        "param_space = {\n",
        "    'C': (0.1, 100),\n",
        "    'kernel': ['linear', 'rbf', 'poly'],\n",
        "    'epsilon': (0.01, 1)\n",
        "}\n",
        "\n",
        "# Initialisation du modèle SVM\n",
        "svm_regressor = SVR(gamma='scale')\n",
        "\n",
        "# Initialisation de l'optimisation bayésienne avec processus gaussiens (BO-GP)\n",
        "opt = BayesSearchCV(svm_regressor, param_space, n_iter=30, cv=3, n_jobs=-1, scoring='neg_mean_squared_error', random_state=42)\n",
        "\n",
        "# Recherche des meilleurs hyperparamètres\n",
        "opt.fit(X_train, y_train)\n",
        "\n",
        "# Afficher les meilleurs hyperparamètres\n",
        "print(\"\\nSVM - Best Parameters:\", opt.best_params_)\n",
        "print(\"SVM - Best MSE:\", -opt.best_score_)\n",
        "\n",
        "# Prédiction sur l'ensemble de test avec les meilleurs paramètres\n",
        "y_pred = opt.predict(X_test)\n",
        "\n",
        "# Calculer et afficher le MSE sur l'ensemble de test\n",
        "test_mse = mean_squared_error(y_test, y_pred)\n",
        "print(\"SVM - Test MSE:\", test_mse)\n",
        "\n",
        "# Visualisation des résultats\n",
        "results = pd.DataFrame(opt.cv_results_)\n",
        "results.plot.scatter(x='param_C', y='mean_test_score', c='param_kernel', colormap='viridis', alpha=0.5, s=50)\n",
        "plt.xlabel('C')\n",
        "plt.ylabel('Negative Mean Squared Error')\n",
        "plt.title('BO-GP SVM Hyperparameter Tuning')\n",
        "plt.show()"
      ],
      "metadata": {
        "id": "PsR3rFDBgQip"
      },
      "execution_count": null,
      "outputs": []
    },
    {
      "cell_type": "markdown",
      "source": [
        "# Interprétation\n",
        "**Grid Search :**\n",
        "\n",
        "Interprétation : Exploration exhaustive des combinaisons d'hyperparamètres prédéfinies.\n",
        "Avantages : Simplicité, transparence, exploration exhaustive.\n",
        "Inconvénients : Coûteuse en calculs, inefficace pour des espaces larges.\n",
        "\n",
        "\n",
        "**Random Search :**\n",
        "\n",
        "Interprétation : Exploration aléatoire d'hyperparamètres sans grille prédéfinie.\n",
        "Avantages : Efficace pour des espaces vastes, moins coûteuse.\n",
        "Inconvénients : Moins transparente, pas d'exploration exhaustive garantie.\n",
        "\n",
        "\n",
        "**BO-GP (Optimisation Bayésienne avec Processus Gaussien) :**\n",
        "\n",
        "Interprétation : Utilisation d'un modèle probabiliste pour guider l'exploration d'hyperparamètres.\n",
        "Avantages : Efficace pour espaces complexes, convergence rapide.\n",
        "Inconvénients : Coûteuse en calculs, nécessite une compréhension avancée.\n"
      ],
      "metadata": {
        "id": "f76F7VtCfzr1"
      }
    },
    {
      "cell_type": "markdown",
      "source": [
        "# Conclusion :\n",
        "\n",
        "Grid Search : Simple mais coûteuse.\n",
        "Random Search : Efficace pour des espaces larges.\n",
        "BO-GP : Puissante pour espaces complexes, mais coûteuse. Choix dépend des ressources et de la complexité."
      ],
      "metadata": {
        "id": "L0TWYaDngC6o"
      }
    }
  ],
  "metadata": {
    "colab": {
      "provenance": []
    },
    "kernelspec": {
      "display_name": "Python 3",
      "name": "python3"
    },
    "language_info": {
      "name": "python"
    }
  },
  "nbformat": 4,
  "nbformat_minor": 0
}